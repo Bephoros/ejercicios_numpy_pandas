{
 "cells": [
  {
   "cell_type": "code",
   "execution_count": 91,
   "metadata": {},
   "outputs": [],
   "source": [
    "#Ejercicios numpy y pandas\n",
    "import numpy as np\n",
    "import pandas as pd\n",
    "\n",
    "users_file = pd.read_csv('users.csv')"
   ]
  },
  {
   "cell_type": "code",
   "execution_count": 92,
   "metadata": {},
   "outputs": [
    {
     "data": {
      "text/html": [
       "<div>\n",
       "<style scoped>\n",
       "    .dataframe tbody tr th:only-of-type {\n",
       "        vertical-align: middle;\n",
       "    }\n",
       "\n",
       "    .dataframe tbody tr th {\n",
       "        vertical-align: top;\n",
       "    }\n",
       "\n",
       "    .dataframe thead th {\n",
       "        text-align: right;\n",
       "    }\n",
       "</style>\n",
       "<table border=\"1\" class=\"dataframe\">\n",
       "  <thead>\n",
       "    <tr style=\"text-align: right;\">\n",
       "      <th></th>\n",
       "      <th>name</th>\n",
       "      <th>email</th>\n",
       "    </tr>\n",
       "  </thead>\n",
       "  <tbody>\n",
       "    <tr>\n",
       "      <th>0</th>\n",
       "      <td>Ms Fátima Martin</td>\n",
       "      <td>fatima.martin@example.com</td>\n",
       "    </tr>\n",
       "    <tr>\n",
       "      <th>1</th>\n",
       "      <td>Mrs Molly Garrett</td>\n",
       "      <td>molly.garrett@example.com</td>\n",
       "    </tr>\n",
       "    <tr>\n",
       "      <th>2</th>\n",
       "      <td>Ms Veena Kulkarni</td>\n",
       "      <td>veena.kulkarni@example.com</td>\n",
       "    </tr>\n",
       "    <tr>\n",
       "      <th>3</th>\n",
       "      <td>Miss Sheryl Cole</td>\n",
       "      <td>sheryl.cole@example.com</td>\n",
       "    </tr>\n",
       "    <tr>\n",
       "      <th>4</th>\n",
       "      <td>Ms Nataša Subašić</td>\n",
       "      <td>natasa.subasic@example.com</td>\n",
       "    </tr>\n",
       "    <tr>\n",
       "      <th>...</th>\n",
       "      <td>...</td>\n",
       "      <td>...</td>\n",
       "    </tr>\n",
       "    <tr>\n",
       "      <th>1995</th>\n",
       "      <td>Ms Viktoria Lauritsen</td>\n",
       "      <td>viktoria.lauritsen@example.com</td>\n",
       "    </tr>\n",
       "    <tr>\n",
       "      <th>1996</th>\n",
       "      <td>Mr Christian Sørhaug</td>\n",
       "      <td>christian.sorhaug@example.com</td>\n",
       "    </tr>\n",
       "    <tr>\n",
       "      <th>1997</th>\n",
       "      <td>Ms Maria Peković</td>\n",
       "      <td>maria.pekovic@example.com</td>\n",
       "    </tr>\n",
       "    <tr>\n",
       "      <th>1998</th>\n",
       "      <td>Mrs Nicole Jensen</td>\n",
       "      <td>nicole.jensen@example.com</td>\n",
       "    </tr>\n",
       "    <tr>\n",
       "      <th>1999</th>\n",
       "      <td>Mr Percy Blankenstein</td>\n",
       "      <td>percy.blankenstein@example.com</td>\n",
       "    </tr>\n",
       "  </tbody>\n",
       "</table>\n",
       "<p>2000 rows × 2 columns</p>\n",
       "</div>"
      ],
      "text/plain": [
       "                       name                           email\n",
       "0          Ms Fátima Martin       fatima.martin@example.com\n",
       "1         Mrs Molly Garrett       molly.garrett@example.com\n",
       "2         Ms Veena Kulkarni      veena.kulkarni@example.com\n",
       "3          Miss Sheryl Cole         sheryl.cole@example.com\n",
       "4         Ms Nataša Subašić      natasa.subasic@example.com\n",
       "...                     ...                             ...\n",
       "1995  Ms Viktoria Lauritsen  viktoria.lauritsen@example.com\n",
       "1996   Mr Christian Sørhaug   christian.sorhaug@example.com\n",
       "1997       Ms Maria Peković       maria.pekovic@example.com\n",
       "1998      Mrs Nicole Jensen       nicole.jensen@example.com\n",
       "1999  Mr Percy Blankenstein  percy.blankenstein@example.com\n",
       "\n",
       "[2000 rows x 2 columns]"
      ]
     },
     "execution_count": 92,
     "metadata": {},
     "output_type": "execute_result"
    }
   ],
   "source": [
    "# 1.- Obtener el nombre y correo de todos los usuarios.\n",
    "users_file[['name', 'email']]"
   ]
  },
  {
   "cell_type": "code",
   "execution_count": 93,
   "metadata": {},
   "outputs": [
    {
     "data": {
      "text/plain": [
       "0            Ms Fátima Martin\n",
       "1           Mrs Molly Garrett\n",
       "2           Ms Veena Kulkarni\n",
       "3            Miss Sheryl Cole\n",
       "4           Ms Nataša Subašić\n",
       "                ...          \n",
       "1992        Ms Floriana Ramos\n",
       "1994             Ms Bella Lee\n",
       "1995    Ms Viktoria Lauritsen\n",
       "1997         Ms Maria Peković\n",
       "1998        Mrs Nicole Jensen\n",
       "Name: name, Length: 1013, dtype: object"
      ]
     },
     "execution_count": 93,
     "metadata": {},
     "output_type": "execute_result"
    }
   ],
   "source": [
    "# 2.- Obtener el nombre de todos los usuarios cuyo sexo es Femenino.\n",
    "users_file[users_file.gender == 'female']['name']"
   ]
  },
  {
   "cell_type": "code",
   "execution_count": 94,
   "metadata": {},
   "outputs": [
    {
     "data": {
      "text/plain": [
       "6                   Mr Oscar Olsen\n",
       "10      Monsieur Francesco Leclerc\n",
       "12                 Mr Sean Shelton\n",
       "17                Mr Lennox Økland\n",
       "19                   Mr Jose Wells\n",
       "                   ...            \n",
       "1980               Mr Sierd Donker\n",
       "1983          Mr Alfred Williamson\n",
       "1987                Mr Blake Slawa\n",
       "1991                 Mr Jake Moore\n",
       "1993            Mr Zachary Stevens\n",
       "Name: name, Length: 461, dtype: object"
      ]
     },
     "execution_count": 94,
     "metadata": {},
     "output_type": "execute_result"
    }
   ],
   "source": [
    "# 3.- Obtener el nombre de todos los usuarios cuyo sexo es Masculino y tengan una edad mayor a 50\n",
    "users_file[(users_file.gender == 'male') & (users_file.age > 50)]['name']"
   ]
  },
  {
   "cell_type": "code",
   "execution_count": 95,
   "metadata": {},
   "outputs": [
    {
     "data": {
      "text/html": [
       "<div>\n",
       "<style scoped>\n",
       "    .dataframe tbody tr th:only-of-type {\n",
       "        vertical-align: middle;\n",
       "    }\n",
       "\n",
       "    .dataframe tbody tr th {\n",
       "        vertical-align: top;\n",
       "    }\n",
       "\n",
       "    .dataframe thead th {\n",
       "        text-align: right;\n",
       "    }\n",
       "</style>\n",
       "<table border=\"1\" class=\"dataframe\">\n",
       "  <thead>\n",
       "    <tr style=\"text-align: right;\">\n",
       "      <th></th>\n",
       "      <th>name</th>\n",
       "      <th>age</th>\n",
       "      <th>username</th>\n",
       "      <th>email</th>\n",
       "      <th>country</th>\n",
       "      <th>postcode</th>\n",
       "      <th>gender</th>\n",
       "    </tr>\n",
       "  </thead>\n",
       "  <tbody>\n",
       "    <tr>\n",
       "      <th>0</th>\n",
       "      <td>Ms Fátima Martin</td>\n",
       "      <td>42</td>\n",
       "      <td>goldenmouse797</td>\n",
       "      <td>fatima.martin@example.com</td>\n",
       "      <td>Spain</td>\n",
       "      <td>43746</td>\n",
       "      <td>female</td>\n",
       "    </tr>\n",
       "    <tr>\n",
       "      <th>1</th>\n",
       "      <td>Mrs Molly Garrett</td>\n",
       "      <td>30</td>\n",
       "      <td>smallpanda982</td>\n",
       "      <td>molly.garrett@example.com</td>\n",
       "      <td>Ireland</td>\n",
       "      <td>57660</td>\n",
       "      <td>female</td>\n",
       "    </tr>\n",
       "    <tr>\n",
       "      <th>2</th>\n",
       "      <td>Ms Veena Kulkarni</td>\n",
       "      <td>53</td>\n",
       "      <td>smalltiger174</td>\n",
       "      <td>veena.kulkarni@example.com</td>\n",
       "      <td>India</td>\n",
       "      <td>29797</td>\n",
       "      <td>female</td>\n",
       "    </tr>\n",
       "    <tr>\n",
       "      <th>3</th>\n",
       "      <td>Miss Sheryl Cole</td>\n",
       "      <td>74</td>\n",
       "      <td>beautifulcat191</td>\n",
       "      <td>sheryl.cole@example.com</td>\n",
       "      <td>United Kingdom</td>\n",
       "      <td>TH3 7XG</td>\n",
       "      <td>female</td>\n",
       "    </tr>\n",
       "    <tr>\n",
       "      <th>4</th>\n",
       "      <td>Ms Nataša Subašić</td>\n",
       "      <td>55</td>\n",
       "      <td>bigbird256</td>\n",
       "      <td>natasa.subasic@example.com</td>\n",
       "      <td>Serbia</td>\n",
       "      <td>83260</td>\n",
       "      <td>female</td>\n",
       "    </tr>\n",
       "    <tr>\n",
       "      <th>...</th>\n",
       "      <td>...</td>\n",
       "      <td>...</td>\n",
       "      <td>...</td>\n",
       "      <td>...</td>\n",
       "      <td>...</td>\n",
       "      <td>...</td>\n",
       "      <td>...</td>\n",
       "    </tr>\n",
       "    <tr>\n",
       "      <th>1995</th>\n",
       "      <td>Ms Viktoria Lauritsen</td>\n",
       "      <td>38</td>\n",
       "      <td>heavyzebra441</td>\n",
       "      <td>viktoria.lauritsen@example.com</td>\n",
       "      <td>Norway</td>\n",
       "      <td>1545</td>\n",
       "      <td>female</td>\n",
       "    </tr>\n",
       "    <tr>\n",
       "      <th>1996</th>\n",
       "      <td>Mr Christian Sørhaug</td>\n",
       "      <td>28</td>\n",
       "      <td>goldensnake897</td>\n",
       "      <td>christian.sorhaug@example.com</td>\n",
       "      <td>Norway</td>\n",
       "      <td>3614</td>\n",
       "      <td>male</td>\n",
       "    </tr>\n",
       "    <tr>\n",
       "      <th>1997</th>\n",
       "      <td>Ms Maria Peković</td>\n",
       "      <td>45</td>\n",
       "      <td>redzebra951</td>\n",
       "      <td>maria.pekovic@example.com</td>\n",
       "      <td>Serbia</td>\n",
       "      <td>30159</td>\n",
       "      <td>female</td>\n",
       "    </tr>\n",
       "    <tr>\n",
       "      <th>1998</th>\n",
       "      <td>Mrs Nicole Jensen</td>\n",
       "      <td>78</td>\n",
       "      <td>beautifuldog292</td>\n",
       "      <td>nicole.jensen@example.com</td>\n",
       "      <td>United Kingdom</td>\n",
       "      <td>L9J 1QE</td>\n",
       "      <td>female</td>\n",
       "    </tr>\n",
       "    <tr>\n",
       "      <th>1999</th>\n",
       "      <td>Mr Percy Blankenstein</td>\n",
       "      <td>36</td>\n",
       "      <td>ticklishostrich632</td>\n",
       "      <td>percy.blankenstein@example.com</td>\n",
       "      <td>Netherlands</td>\n",
       "      <td>3143 RR</td>\n",
       "      <td>male</td>\n",
       "    </tr>\n",
       "  </tbody>\n",
       "</table>\n",
       "<p>2000 rows × 7 columns</p>\n",
       "</div>"
      ],
      "text/plain": [
       "                       name  age            username  \\\n",
       "0          Ms Fátima Martin   42      goldenmouse797   \n",
       "1         Mrs Molly Garrett   30       smallpanda982   \n",
       "2         Ms Veena Kulkarni   53       smalltiger174   \n",
       "3          Miss Sheryl Cole   74     beautifulcat191   \n",
       "4         Ms Nataša Subašić   55          bigbird256   \n",
       "...                     ...  ...                 ...   \n",
       "1995  Ms Viktoria Lauritsen   38       heavyzebra441   \n",
       "1996   Mr Christian Sørhaug   28      goldensnake897   \n",
       "1997       Ms Maria Peković   45         redzebra951   \n",
       "1998      Mrs Nicole Jensen   78     beautifuldog292   \n",
       "1999  Mr Percy Blankenstein   36  ticklishostrich632   \n",
       "\n",
       "                               email         country postcode  gender  \n",
       "0          fatima.martin@example.com           Spain    43746  female  \n",
       "1          molly.garrett@example.com         Ireland    57660  female  \n",
       "2         veena.kulkarni@example.com           India    29797  female  \n",
       "3            sheryl.cole@example.com  United Kingdom  TH3 7XG  female  \n",
       "4         natasa.subasic@example.com          Serbia    83260  female  \n",
       "...                              ...             ...      ...     ...  \n",
       "1995  viktoria.lauritsen@example.com          Norway     1545  female  \n",
       "1996   christian.sorhaug@example.com          Norway     3614    male  \n",
       "1997       maria.pekovic@example.com          Serbia    30159  female  \n",
       "1998       nicole.jensen@example.com  United Kingdom  L9J 1QE  female  \n",
       "1999  percy.blankenstein@example.com     Netherlands  3143 RR    male  \n",
       "\n",
       "[2000 rows x 7 columns]"
      ]
     },
     "execution_count": 95,
     "metadata": {},
     "output_type": "execute_result"
    }
   ],
   "source": [
    "# 4.- Obtener todos los usuarios cuya edad sea mayor a 20.\n",
    "users_file[users_file.age > 20]"
   ]
  },
  {
   "cell_type": "code",
   "execution_count": 96,
   "metadata": {},
   "outputs": [
    {
     "data": {
      "text/html": [
       "<div>\n",
       "<style scoped>\n",
       "    .dataframe tbody tr th:only-of-type {\n",
       "        vertical-align: middle;\n",
       "    }\n",
       "\n",
       "    .dataframe tbody tr th {\n",
       "        vertical-align: top;\n",
       "    }\n",
       "\n",
       "    .dataframe thead th {\n",
       "        text-align: right;\n",
       "    }\n",
       "</style>\n",
       "<table border=\"1\" class=\"dataframe\">\n",
       "  <thead>\n",
       "    <tr style=\"text-align: right;\">\n",
       "      <th></th>\n",
       "      <th>username</th>\n",
       "      <th>email</th>\n",
       "    </tr>\n",
       "  </thead>\n",
       "  <tbody>\n",
       "    <tr>\n",
       "      <th>2</th>\n",
       "      <td>smalltiger174</td>\n",
       "      <td>veena.kulkarni@example.com</td>\n",
       "    </tr>\n",
       "    <tr>\n",
       "      <th>4</th>\n",
       "      <td>bigbird256</td>\n",
       "      <td>natasa.subasic@example.com</td>\n",
       "    </tr>\n",
       "    <tr>\n",
       "      <th>6</th>\n",
       "      <td>whitebutterfly600</td>\n",
       "      <td>oscar.olsen@example.com</td>\n",
       "    </tr>\n",
       "    <tr>\n",
       "      <th>11</th>\n",
       "      <td>lazyzebra356</td>\n",
       "      <td>abigail.morales@example.com</td>\n",
       "    </tr>\n",
       "    <tr>\n",
       "      <th>19</th>\n",
       "      <td>heavyswan589</td>\n",
       "      <td>jose.wells@example.com</td>\n",
       "    </tr>\n",
       "    <tr>\n",
       "      <th>...</th>\n",
       "      <td>...</td>\n",
       "      <td>...</td>\n",
       "    </tr>\n",
       "    <tr>\n",
       "      <th>1964</th>\n",
       "      <td>happypanda902</td>\n",
       "      <td>ivonne.noriega@example.com</td>\n",
       "    </tr>\n",
       "    <tr>\n",
       "      <th>1969</th>\n",
       "      <td>whitemeercat543</td>\n",
       "      <td>eemeli.heino@example.com</td>\n",
       "    </tr>\n",
       "    <tr>\n",
       "      <th>1972</th>\n",
       "      <td>goldentiger337</td>\n",
       "      <td>emilie.jorgensen@example.com</td>\n",
       "    </tr>\n",
       "    <tr>\n",
       "      <th>1987</th>\n",
       "      <td>whiteostrich177</td>\n",
       "      <td>blake.slawa@example.com</td>\n",
       "    </tr>\n",
       "    <tr>\n",
       "      <th>1990</th>\n",
       "      <td>beautifulelephant736</td>\n",
       "      <td>marius.moller@example.com</td>\n",
       "    </tr>\n",
       "  </tbody>\n",
       "</table>\n",
       "<p>387 rows × 2 columns</p>\n",
       "</div>"
      ],
      "text/plain": [
       "                  username                         email\n",
       "2            smalltiger174    veena.kulkarni@example.com\n",
       "4               bigbird256    natasa.subasic@example.com\n",
       "6        whitebutterfly600       oscar.olsen@example.com\n",
       "11            lazyzebra356   abigail.morales@example.com\n",
       "19            heavyswan589        jose.wells@example.com\n",
       "...                    ...                           ...\n",
       "1964         happypanda902    ivonne.noriega@example.com\n",
       "1969       whitemeercat543      eemeli.heino@example.com\n",
       "1972        goldentiger337  emilie.jorgensen@example.com\n",
       "1987       whiteostrich177       blake.slawa@example.com\n",
       "1990  beautifulelephant736     marius.moller@example.com\n",
       "\n",
       "[387 rows x 2 columns]"
      ]
     },
     "execution_count": 96,
     "metadata": {},
     "output_type": "execute_result"
    }
   ],
   "source": [
    "# 5.- Obtener el username y correo electrónico de los usuarios cuya edad se encuentre\n",
    "# en el rango 50 a 60.\n",
    "\n",
    "users_file[(users_file.age >= 50) & (users_file.age <= 60)][['username', 'email']]"
   ]
  },
  {
   "cell_type": "code",
   "execution_count": 97,
   "metadata": {},
   "outputs": [
    {
     "data": {
      "text/plain": [
       "Series([], Name: username, dtype: object)"
      ]
     },
     "execution_count": 97,
     "metadata": {},
     "output_type": "execute_result"
    }
   ],
   "source": [
    "# 6.- Obtener el username de todos los usuarios cuyo correo no terminen con @example.com\n",
    "users_file[~users_file.email.str.endswith('@example.com')]['username']"
   ]
  },
  {
   "cell_type": "code",
   "execution_count": 98,
   "metadata": {},
   "outputs": [
    {
     "data": {
      "text/plain": [
       "15           smalltiger986\n",
       "18             whitecat263\n",
       "29       brownbutterfly120\n",
       "36      ticklishladybug412\n",
       "40       organicleopard484\n",
       "               ...        \n",
       "1969       whitemeercat543\n",
       "1973        orangezebra429\n",
       "1986        goldenkoala606\n",
       "1987       whiteostrich177\n",
       "1989          brownwolf223\n",
       "Name: username, Length: 316, dtype: object"
      ]
     },
     "execution_count": 98,
     "metadata": {},
     "output_type": "execute_result"
    }
   ],
   "source": [
    "# 7.- Obtener el username de todos los usuarios cuyo país sea Alemania, Finlandia o Canadá.\n",
    "users_file[(users_file.country == 'Germany') | (users_file.country == 'Finland') | (users_file.country == 'Canada')]['username']"
   ]
  },
  {
   "cell_type": "code",
   "execution_count": 99,
   "metadata": {},
   "outputs": [
    {
     "data": {
      "text/html": [
       "<div>\n",
       "<style scoped>\n",
       "    .dataframe tbody tr th:only-of-type {\n",
       "        vertical-align: middle;\n",
       "    }\n",
       "\n",
       "    .dataframe tbody tr th {\n",
       "        vertical-align: top;\n",
       "    }\n",
       "\n",
       "    .dataframe thead th {\n",
       "        text-align: right;\n",
       "    }\n",
       "</style>\n",
       "<table border=\"1\" class=\"dataframe\">\n",
       "  <thead>\n",
       "    <tr style=\"text-align: right;\">\n",
       "      <th></th>\n",
       "      <th>name</th>\n",
       "      <th>email</th>\n",
       "    </tr>\n",
       "  </thead>\n",
       "  <tbody>\n",
       "    <tr>\n",
       "      <th>79</th>\n",
       "      <td>Miss Sara Weyand</td>\n",
       "      <td>sara.weyand@example.com</td>\n",
       "    </tr>\n",
       "    <tr>\n",
       "      <th>105</th>\n",
       "      <td>Miss Marina Heumann</td>\n",
       "      <td>marina.heumann@example.com</td>\n",
       "    </tr>\n",
       "    <tr>\n",
       "      <th>245</th>\n",
       "      <td>Miss Bozena Thimm</td>\n",
       "      <td>bozena.thimm@example.com</td>\n",
       "    </tr>\n",
       "    <tr>\n",
       "      <th>260</th>\n",
       "      <td>Miss Clara Springer</td>\n",
       "      <td>clara.springer@example.com</td>\n",
       "    </tr>\n",
       "    <tr>\n",
       "      <th>270</th>\n",
       "      <td>Miss Elvira Eichner</td>\n",
       "      <td>elvira.eichner@example.com</td>\n",
       "    </tr>\n",
       "    <tr>\n",
       "      <th>278</th>\n",
       "      <td>Mrs Sevim Stehr</td>\n",
       "      <td>sevim.stehr@example.com</td>\n",
       "    </tr>\n",
       "    <tr>\n",
       "      <th>330</th>\n",
       "      <td>Ms Ilona Heinemann</td>\n",
       "      <td>ilona.heinemann@example.com</td>\n",
       "    </tr>\n",
       "    <tr>\n",
       "      <th>340</th>\n",
       "      <td>Ms Nina Höfer</td>\n",
       "      <td>nina.hofer@example.com</td>\n",
       "    </tr>\n",
       "    <tr>\n",
       "      <th>346</th>\n",
       "      <td>Mrs Cäcilie Uhlmann</td>\n",
       "      <td>cacilie.uhlmann@example.com</td>\n",
       "    </tr>\n",
       "    <tr>\n",
       "      <th>447</th>\n",
       "      <td>Ms Liesbeth Völker</td>\n",
       "      <td>liesbeth.volker@example.com</td>\n",
       "    </tr>\n",
       "    <tr>\n",
       "      <th>450</th>\n",
       "      <td>Mrs Ella Leder</td>\n",
       "      <td>ella.leder@example.com</td>\n",
       "    </tr>\n",
       "    <tr>\n",
       "      <th>477</th>\n",
       "      <td>Miss Stella Schenk</td>\n",
       "      <td>stella.schenk@example.com</td>\n",
       "    </tr>\n",
       "    <tr>\n",
       "      <th>487</th>\n",
       "      <td>Ms Alexa Backes</td>\n",
       "      <td>alexa.backes@example.com</td>\n",
       "    </tr>\n",
       "    <tr>\n",
       "      <th>555</th>\n",
       "      <td>Ms Beate Eifler</td>\n",
       "      <td>beate.eifler@example.com</td>\n",
       "    </tr>\n",
       "    <tr>\n",
       "      <th>676</th>\n",
       "      <td>Ms Kira Bartz</td>\n",
       "      <td>kira.bartz@example.com</td>\n",
       "    </tr>\n",
       "    <tr>\n",
       "      <th>695</th>\n",
       "      <td>Miss Ingrid Demir</td>\n",
       "      <td>ingrid.demir@example.com</td>\n",
       "    </tr>\n",
       "    <tr>\n",
       "      <th>750</th>\n",
       "      <td>Mrs Elizabeth Lemmer</td>\n",
       "      <td>elizabeth.lemmer@example.com</td>\n",
       "    </tr>\n",
       "    <tr>\n",
       "      <th>757</th>\n",
       "      <td>Miss Anne-Kathrin Haußmann</td>\n",
       "      <td>anne-kathrin.haussmann@example.com</td>\n",
       "    </tr>\n",
       "    <tr>\n",
       "      <th>764</th>\n",
       "      <td>Miss Flora Reil</td>\n",
       "      <td>flora.reil@example.com</td>\n",
       "    </tr>\n",
       "    <tr>\n",
       "      <th>767</th>\n",
       "      <td>Ms Alida Köster</td>\n",
       "      <td>alida.koster@example.com</td>\n",
       "    </tr>\n",
       "    <tr>\n",
       "      <th>784</th>\n",
       "      <td>Miss Valeri Stenger</td>\n",
       "      <td>valeri.stenger@example.com</td>\n",
       "    </tr>\n",
       "    <tr>\n",
       "      <th>870</th>\n",
       "      <td>Miss Viviane Steinert</td>\n",
       "      <td>viviane.steinert@example.com</td>\n",
       "    </tr>\n",
       "    <tr>\n",
       "      <th>925</th>\n",
       "      <td>Mrs Harriet Schmidl</td>\n",
       "      <td>harriet.schmidl@example.com</td>\n",
       "    </tr>\n",
       "    <tr>\n",
       "      <th>1020</th>\n",
       "      <td>Ms Gabriela Dreher</td>\n",
       "      <td>gabriela.dreher@example.com</td>\n",
       "    </tr>\n",
       "    <tr>\n",
       "      <th>1132</th>\n",
       "      <td>Ms Estelle Poth</td>\n",
       "      <td>estelle.poth@example.com</td>\n",
       "    </tr>\n",
       "    <tr>\n",
       "      <th>1151</th>\n",
       "      <td>Ms Janette Arslan</td>\n",
       "      <td>janette.arslan@example.com</td>\n",
       "    </tr>\n",
       "    <tr>\n",
       "      <th>1152</th>\n",
       "      <td>Mrs Annemarie Zwick</td>\n",
       "      <td>annemarie.zwick@example.com</td>\n",
       "    </tr>\n",
       "    <tr>\n",
       "      <th>1278</th>\n",
       "      <td>Ms Emilie Stegemann</td>\n",
       "      <td>emilie.stegemann@example.com</td>\n",
       "    </tr>\n",
       "    <tr>\n",
       "      <th>1386</th>\n",
       "      <td>Miss Emilie Schubert</td>\n",
       "      <td>emilie.schubert@example.com</td>\n",
       "    </tr>\n",
       "    <tr>\n",
       "      <th>1518</th>\n",
       "      <td>Miss Gerda Handke</td>\n",
       "      <td>gerda.handke@example.com</td>\n",
       "    </tr>\n",
       "    <tr>\n",
       "      <th>1534</th>\n",
       "      <td>Ms Elwira Heyne</td>\n",
       "      <td>elwira.heyne@example.com</td>\n",
       "    </tr>\n",
       "    <tr>\n",
       "      <th>1626</th>\n",
       "      <td>Ms Ute Saller</td>\n",
       "      <td>ute.saller@example.com</td>\n",
       "    </tr>\n",
       "    <tr>\n",
       "      <th>1631</th>\n",
       "      <td>Ms Mia Schrage</td>\n",
       "      <td>mia.schrage@example.com</td>\n",
       "    </tr>\n",
       "    <tr>\n",
       "      <th>1639</th>\n",
       "      <td>Miss Christina Hammes</td>\n",
       "      <td>christina.hammes@example.com</td>\n",
       "    </tr>\n",
       "    <tr>\n",
       "      <th>1678</th>\n",
       "      <td>Miss Ronja Frühauf</td>\n",
       "      <td>ronja.fruhauf@example.com</td>\n",
       "    </tr>\n",
       "    <tr>\n",
       "      <th>1685</th>\n",
       "      <td>Mrs Evangelia Dreßler</td>\n",
       "      <td>evangelia.dressler@example.com</td>\n",
       "    </tr>\n",
       "    <tr>\n",
       "      <th>1716</th>\n",
       "      <td>Miss Brunhilde Liebl</td>\n",
       "      <td>brunhilde.liebl@example.com</td>\n",
       "    </tr>\n",
       "    <tr>\n",
       "      <th>1734</th>\n",
       "      <td>Miss Malgorzata Püschel</td>\n",
       "      <td>malgorzata.puschel@example.com</td>\n",
       "    </tr>\n",
       "    <tr>\n",
       "      <th>1745</th>\n",
       "      <td>Ms Traude Völker</td>\n",
       "      <td>traude.volker@example.com</td>\n",
       "    </tr>\n",
       "    <tr>\n",
       "      <th>1758</th>\n",
       "      <td>Miss Annette Hallmann</td>\n",
       "      <td>annette.hallmann@example.com</td>\n",
       "    </tr>\n",
       "    <tr>\n",
       "      <th>1790</th>\n",
       "      <td>Ms Ildiko Kröner</td>\n",
       "      <td>ildiko.kroner@example.com</td>\n",
       "    </tr>\n",
       "    <tr>\n",
       "      <th>1863</th>\n",
       "      <td>Miss Adolfine Holl</td>\n",
       "      <td>adolfine.holl@example.com</td>\n",
       "    </tr>\n",
       "    <tr>\n",
       "      <th>1864</th>\n",
       "      <td>Mrs Annabell Stang</td>\n",
       "      <td>annabell.stang@example.com</td>\n",
       "    </tr>\n",
       "    <tr>\n",
       "      <th>1868</th>\n",
       "      <td>Mrs Anne Ertl</td>\n",
       "      <td>anne.ertl@example.com</td>\n",
       "    </tr>\n",
       "    <tr>\n",
       "      <th>1896</th>\n",
       "      <td>Mrs Camilla Yilmaz</td>\n",
       "      <td>camilla.yilmaz@example.com</td>\n",
       "    </tr>\n",
       "    <tr>\n",
       "      <th>1904</th>\n",
       "      <td>Ms Anne Steffan</td>\n",
       "      <td>anne.steffan@example.com</td>\n",
       "    </tr>\n",
       "    <tr>\n",
       "      <th>1952</th>\n",
       "      <td>Mrs Dorota Stuber</td>\n",
       "      <td>dorota.stuber@example.com</td>\n",
       "    </tr>\n",
       "    <tr>\n",
       "      <th>1989</th>\n",
       "      <td>Miss Sylvana Stoll</td>\n",
       "      <td>sylvana.stoll@example.com</td>\n",
       "    </tr>\n",
       "  </tbody>\n",
       "</table>\n",
       "</div>"
      ],
      "text/plain": [
       "                            name                               email\n",
       "79              Miss Sara Weyand             sara.weyand@example.com\n",
       "105          Miss Marina Heumann          marina.heumann@example.com\n",
       "245            Miss Bozena Thimm            bozena.thimm@example.com\n",
       "260          Miss Clara Springer          clara.springer@example.com\n",
       "270          Miss Elvira Eichner          elvira.eichner@example.com\n",
       "278              Mrs Sevim Stehr             sevim.stehr@example.com\n",
       "330           Ms Ilona Heinemann         ilona.heinemann@example.com\n",
       "340                Ms Nina Höfer              nina.hofer@example.com\n",
       "346          Mrs Cäcilie Uhlmann         cacilie.uhlmann@example.com\n",
       "447           Ms Liesbeth Völker         liesbeth.volker@example.com\n",
       "450               Mrs Ella Leder              ella.leder@example.com\n",
       "477           Miss Stella Schenk           stella.schenk@example.com\n",
       "487              Ms Alexa Backes            alexa.backes@example.com\n",
       "555              Ms Beate Eifler            beate.eifler@example.com\n",
       "676                Ms Kira Bartz              kira.bartz@example.com\n",
       "695            Miss Ingrid Demir            ingrid.demir@example.com\n",
       "750         Mrs Elizabeth Lemmer        elizabeth.lemmer@example.com\n",
       "757   Miss Anne-Kathrin Haußmann  anne-kathrin.haussmann@example.com\n",
       "764              Miss Flora Reil              flora.reil@example.com\n",
       "767              Ms Alida Köster            alida.koster@example.com\n",
       "784          Miss Valeri Stenger          valeri.stenger@example.com\n",
       "870        Miss Viviane Steinert        viviane.steinert@example.com\n",
       "925          Mrs Harriet Schmidl         harriet.schmidl@example.com\n",
       "1020          Ms Gabriela Dreher         gabriela.dreher@example.com\n",
       "1132             Ms Estelle Poth            estelle.poth@example.com\n",
       "1151           Ms Janette Arslan          janette.arslan@example.com\n",
       "1152         Mrs Annemarie Zwick         annemarie.zwick@example.com\n",
       "1278         Ms Emilie Stegemann        emilie.stegemann@example.com\n",
       "1386        Miss Emilie Schubert         emilie.schubert@example.com\n",
       "1518           Miss Gerda Handke            gerda.handke@example.com\n",
       "1534             Ms Elwira Heyne            elwira.heyne@example.com\n",
       "1626               Ms Ute Saller              ute.saller@example.com\n",
       "1631              Ms Mia Schrage             mia.schrage@example.com\n",
       "1639       Miss Christina Hammes        christina.hammes@example.com\n",
       "1678          Miss Ronja Frühauf           ronja.fruhauf@example.com\n",
       "1685       Mrs Evangelia Dreßler      evangelia.dressler@example.com\n",
       "1716        Miss Brunhilde Liebl         brunhilde.liebl@example.com\n",
       "1734     Miss Malgorzata Püschel      malgorzata.puschel@example.com\n",
       "1745            Ms Traude Völker           traude.volker@example.com\n",
       "1758       Miss Annette Hallmann        annette.hallmann@example.com\n",
       "1790            Ms Ildiko Kröner           ildiko.kroner@example.com\n",
       "1863          Miss Adolfine Holl           adolfine.holl@example.com\n",
       "1864          Mrs Annabell Stang          annabell.stang@example.com\n",
       "1868               Mrs Anne Ertl               anne.ertl@example.com\n",
       "1896          Mrs Camilla Yilmaz          camilla.yilmaz@example.com\n",
       "1904             Ms Anne Steffan            anne.steffan@example.com\n",
       "1952           Mrs Dorota Stuber           dorota.stuber@example.com\n",
       "1989          Miss Sylvana Stoll           sylvana.stoll@example.com"
      ]
     },
     "execution_count": 99,
     "metadata": {},
     "output_type": "execute_result"
    }
   ],
   "source": [
    "# 8.- Obtener el nombre y correo electronico de todos los usuarios de sexo Femenino que sean del país Alemania.\n",
    "users_file[(users_file.gender == 'female') & (users_file.country == 'Germany')][['name', 'email']]"
   ]
  },
  {
   "cell_type": "code",
   "execution_count": 100,
   "metadata": {},
   "outputs": [
    {
     "data": {
      "text/plain": [
       "53.89090909090909"
      ]
     },
     "execution_count": 100,
     "metadata": {},
     "output_type": "execute_result"
    }
   ],
   "source": [
    "# 9.- Obtener el promedio de edad de todos los usuarios de sexo Femenido de Canada mayores de 20 años.\n",
    "users_file[(users_file.gender == 'female') & (users_file.country == 'Canada') & (users_file.age > 20)]['age'].mean()"
   ]
  },
  {
   "cell_type": "code",
   "execution_count": 101,
   "metadata": {},
   "outputs": [
    {
     "data": {
      "text/plain": [
       "103"
      ]
     },
     "execution_count": 101,
     "metadata": {},
     "output_type": "execute_result"
    }
   ],
   "source": [
    "# 10.- Conocer la cantidad de usuarios que residen en Finlandia.\n",
    "users_file[users_file.country == 'Finland']['name'].count()"
   ]
  },
  {
   "cell_type": "code",
   "execution_count": 102,
   "metadata": {},
   "outputs": [
    {
     "data": {
      "text/plain": [
       "gender\n",
       "female    1013\n",
       "male       987\n",
       "Name: gender, dtype: int64"
      ]
     },
     "execution_count": 102,
     "metadata": {},
     "output_type": "execute_result"
    }
   ],
   "source": [
    "# 11.- Mostrar en consola la cantidad de hombre y mujeres en el dataframe.\n",
    "users_file.groupby('gender')['gender'].count()"
   ]
  },
  {
   "cell_type": "code",
   "execution_count": 103,
   "metadata": {},
   "outputs": [
    {
     "data": {
      "text/plain": [
       "country\n",
       "France    61\n",
       "Name: country, dtype: int64"
      ]
     },
     "execution_count": 103,
     "metadata": {},
     "output_type": "execute_result"
    }
   ],
   "source": [
    "# 12.- Mostrar en consola el país con más mujeres.\n",
    "users_file[users_file.gender == 'female'].groupby('country')['country'].count().sort_values(ascending=False).head(1)"
   ]
  },
  {
   "cell_type": "code",
   "execution_count": 104,
   "metadata": {},
   "outputs": [
    {
     "data": {
      "text/plain": [
       "country\n",
       "Australia    112\n",
       "Germany      108\n",
       "Spain        106\n",
       "Name: country, dtype: int64"
      ]
     },
     "execution_count": 104,
     "metadata": {},
     "output_type": "execute_result"
    }
   ],
   "source": [
    "# 13.- Obtener los 3 países con más usuarios.\n",
    "users_file.groupby('country')['country'].count().sort_values(ascending=False).head(3)"
   ]
  },
  {
   "cell_type": "code",
   "execution_count": 105,
   "metadata": {},
   "outputs": [
    {
     "data": {
      "text/plain": [
       "0         Ms Fátima Martin\n",
       "2        Ms Veena Kulkarni\n",
       "4        Ms Nataša Subašić\n",
       "6           Mr Oscar Olsen\n",
       "7          Ms Marta Selvik\n",
       "               ...        \n",
       "1989    Miss Sylvana Stoll\n",
       "1990      Mr Marius Møller\n",
       "1991         Mr Jake Moore\n",
       "1993    Mr Zachary Stevens\n",
       "1997      Ms Maria Peković\n",
       "Name: name, Length: 1119, dtype: object"
      ]
     },
     "execution_count": 105,
     "metadata": {},
     "output_type": "execute_result"
    }
   ],
   "source": [
    "# 14.- Mostrar en consola el nombre de todos los usuarios cuya edad se encuentre en el\n",
    "# rango de 10 a 20 y 40 a 70.\n",
    "users_file[(users_file.age.between(10, 20)) | (users_file.age.between(40, 70))]['name']"
   ]
  },
  {
   "cell_type": "code",
   "execution_count": 106,
   "metadata": {},
   "outputs": [
    {
     "data": {
      "text/html": [
       "<div>\n",
       "<style scoped>\n",
       "    .dataframe tbody tr th:only-of-type {\n",
       "        vertical-align: middle;\n",
       "    }\n",
       "\n",
       "    .dataframe tbody tr th {\n",
       "        vertical-align: top;\n",
       "    }\n",
       "\n",
       "    .dataframe thead th {\n",
       "        text-align: right;\n",
       "    }\n",
       "</style>\n",
       "<table border=\"1\" class=\"dataframe\">\n",
       "  <thead>\n",
       "    <tr style=\"text-align: right;\">\n",
       "      <th></th>\n",
       "      <th>name</th>\n",
       "      <th>age</th>\n",
       "      <th>username</th>\n",
       "      <th>email</th>\n",
       "      <th>country</th>\n",
       "      <th>postcode</th>\n",
       "      <th>gender</th>\n",
       "    </tr>\n",
       "  </thead>\n",
       "  <tbody>\n",
       "    <tr>\n",
       "      <th>0</th>\n",
       "      <td>Ms Fátima Martin</td>\n",
       "      <td>42</td>\n",
       "      <td>goldenmouse797</td>\n",
       "      <td>fatima.martin@example.com</td>\n",
       "      <td>Spain</td>\n",
       "      <td>43746</td>\n",
       "      <td>female</td>\n",
       "    </tr>\n",
       "    <tr>\n",
       "      <th>1</th>\n",
       "      <td>Mrs Molly Garrett</td>\n",
       "      <td>30</td>\n",
       "      <td>smallpanda982</td>\n",
       "      <td>molly.garrett@example.com</td>\n",
       "      <td>Ireland</td>\n",
       "      <td>57660</td>\n",
       "      <td>female</td>\n",
       "    </tr>\n",
       "    <tr>\n",
       "      <th>2</th>\n",
       "      <td>Ms Veena Kulkarni</td>\n",
       "      <td>53</td>\n",
       "      <td>smalltiger174</td>\n",
       "      <td>veena.kulkarni@example.com</td>\n",
       "      <td>India</td>\n",
       "      <td>29797</td>\n",
       "      <td>female</td>\n",
       "    </tr>\n",
       "    <tr>\n",
       "      <th>3</th>\n",
       "      <td>Miss Sheryl Cole</td>\n",
       "      <td>74</td>\n",
       "      <td>beautifulcat191</td>\n",
       "      <td>sheryl.cole@example.com</td>\n",
       "      <td>United Kingdom</td>\n",
       "      <td>TH3 7XG</td>\n",
       "      <td>female</td>\n",
       "    </tr>\n",
       "    <tr>\n",
       "      <th>4</th>\n",
       "      <td>Ms Nataša Subašić</td>\n",
       "      <td>55</td>\n",
       "      <td>bigbird256</td>\n",
       "      <td>natasa.subasic@example.com</td>\n",
       "      <td>Serbia</td>\n",
       "      <td>83260</td>\n",
       "      <td>female</td>\n",
       "    </tr>\n",
       "    <tr>\n",
       "      <th>...</th>\n",
       "      <td>...</td>\n",
       "      <td>...</td>\n",
       "      <td>...</td>\n",
       "      <td>...</td>\n",
       "      <td>...</td>\n",
       "      <td>...</td>\n",
       "      <td>...</td>\n",
       "    </tr>\n",
       "    <tr>\n",
       "      <th>1995</th>\n",
       "      <td>Ms Viktoria Lauritsen</td>\n",
       "      <td>38</td>\n",
       "      <td>heavyzebra441</td>\n",
       "      <td>viktoria.lauritsen@example.com</td>\n",
       "      <td>Norway</td>\n",
       "      <td>1545</td>\n",
       "      <td>female</td>\n",
       "    </tr>\n",
       "    <tr>\n",
       "      <th>1996</th>\n",
       "      <td>Mr Christian Sørhaug</td>\n",
       "      <td>28</td>\n",
       "      <td>goldensnake897</td>\n",
       "      <td>christian.sorhaug@example.com</td>\n",
       "      <td>Norway</td>\n",
       "      <td>3614</td>\n",
       "      <td>male</td>\n",
       "    </tr>\n",
       "    <tr>\n",
       "      <th>1997</th>\n",
       "      <td>Ms Maria Peković</td>\n",
       "      <td>45</td>\n",
       "      <td>redzebra951</td>\n",
       "      <td>maria.pekovic@example.com</td>\n",
       "      <td>Serbia</td>\n",
       "      <td>30159</td>\n",
       "      <td>female</td>\n",
       "    </tr>\n",
       "    <tr>\n",
       "      <th>1998</th>\n",
       "      <td>Mrs Nicole Jensen</td>\n",
       "      <td>78</td>\n",
       "      <td>beautifuldog292</td>\n",
       "      <td>nicole.jensen@example.com</td>\n",
       "      <td>United Kingdom</td>\n",
       "      <td>L9J 1QE</td>\n",
       "      <td>female</td>\n",
       "    </tr>\n",
       "    <tr>\n",
       "      <th>1999</th>\n",
       "      <td>Mr Percy Blankenstein</td>\n",
       "      <td>36</td>\n",
       "      <td>ticklishostrich632</td>\n",
       "      <td>percy.blankenstein@example.com</td>\n",
       "      <td>Netherlands</td>\n",
       "      <td>3143 RR</td>\n",
       "      <td>male</td>\n",
       "    </tr>\n",
       "  </tbody>\n",
       "</table>\n",
       "<p>2000 rows × 7 columns</p>\n",
       "</div>"
      ],
      "text/plain": [
       "                       name  age            username  \\\n",
       "0          Ms Fátima Martin   42      goldenmouse797   \n",
       "1         Mrs Molly Garrett   30       smallpanda982   \n",
       "2         Ms Veena Kulkarni   53       smalltiger174   \n",
       "3          Miss Sheryl Cole   74     beautifulcat191   \n",
       "4         Ms Nataša Subašić   55          bigbird256   \n",
       "...                     ...  ...                 ...   \n",
       "1995  Ms Viktoria Lauritsen   38       heavyzebra441   \n",
       "1996   Mr Christian Sørhaug   28      goldensnake897   \n",
       "1997       Ms Maria Peković   45         redzebra951   \n",
       "1998      Mrs Nicole Jensen   78     beautifuldog292   \n",
       "1999  Mr Percy Blankenstein   36  ticklishostrich632   \n",
       "\n",
       "                               email         country postcode  gender  \n",
       "0          fatima.martin@example.com           Spain    43746  female  \n",
       "1          molly.garrett@example.com         Ireland    57660  female  \n",
       "2         veena.kulkarni@example.com           India    29797  female  \n",
       "3            sheryl.cole@example.com  United Kingdom  TH3 7XG  female  \n",
       "4         natasa.subasic@example.com          Serbia    83260  female  \n",
       "...                              ...             ...      ...     ...  \n",
       "1995  viktoria.lauritsen@example.com          Norway     1545  female  \n",
       "1996   christian.sorhaug@example.com          Norway     3614    male  \n",
       "1997       maria.pekovic@example.com          Serbia    30159  female  \n",
       "1998       nicole.jensen@example.com  United Kingdom  L9J 1QE  female  \n",
       "1999  percy.blankenstein@example.com     Netherlands  3143 RR    male  \n",
       "\n",
       "[2000 rows x 7 columns]"
      ]
     },
     "execution_count": 106,
     "metadata": {},
     "output_type": "execute_result"
    }
   ],
   "source": [
    "# 15.- Mostrar en consola todos los usuarios con correo electrónico.\n",
    "users_file[users_file.email.notna()]"
   ]
  },
  {
   "cell_type": "code",
   "execution_count": 107,
   "metadata": {},
   "outputs": [
    {
     "data": {
      "text/html": [
       "<div>\n",
       "<style scoped>\n",
       "    .dataframe tbody tr th:only-of-type {\n",
       "        vertical-align: middle;\n",
       "    }\n",
       "\n",
       "    .dataframe tbody tr th {\n",
       "        vertical-align: top;\n",
       "    }\n",
       "\n",
       "    .dataframe thead th {\n",
       "        text-align: right;\n",
       "    }\n",
       "</style>\n",
       "<table border=\"1\" class=\"dataframe\">\n",
       "  <thead>\n",
       "    <tr style=\"text-align: right;\">\n",
       "      <th></th>\n",
       "      <th>name</th>\n",
       "      <th>email</th>\n",
       "    </tr>\n",
       "  </thead>\n",
       "  <tbody>\n",
       "    <tr>\n",
       "      <th>262</th>\n",
       "      <td>Mr Dylan Ouellet</td>\n",
       "      <td>dylan.ouellet@example.com</td>\n",
       "    </tr>\n",
       "  </tbody>\n",
       "</table>\n",
       "</div>"
      ],
      "text/plain": [
       "                 name                      email\n",
       "262  Mr Dylan Ouellet  dylan.ouellet@example.com"
      ]
     },
     "execution_count": 107,
     "metadata": {},
     "output_type": "execute_result"
    }
   ],
   "source": [
    "# 16.- Mostrar en pantalla el nombre y correo electrónico del usuario más joven en Canadá.\n",
    "users_file[users_file.country == 'Canada'].sort_values('age').head(1)[['name', 'email']]"
   ]
  },
  {
   "cell_type": "code",
   "execution_count": 108,
   "metadata": {},
   "outputs": [
    {
     "data": {
      "text/html": [
       "<div>\n",
       "<style scoped>\n",
       "    .dataframe tbody tr th:only-of-type {\n",
       "        vertical-align: middle;\n",
       "    }\n",
       "\n",
       "    .dataframe tbody tr th {\n",
       "        vertical-align: top;\n",
       "    }\n",
       "\n",
       "    .dataframe thead th {\n",
       "        text-align: right;\n",
       "    }\n",
       "</style>\n",
       "<table border=\"1\" class=\"dataframe\">\n",
       "  <thead>\n",
       "    <tr style=\"text-align: right;\">\n",
       "      <th></th>\n",
       "      <th>name</th>\n",
       "      <th>email</th>\n",
       "    </tr>\n",
       "  </thead>\n",
       "  <tbody>\n",
       "    <tr>\n",
       "      <th>1922</th>\n",
       "      <td>Ms Marianne Ennis</td>\n",
       "      <td>marianne.ennis@example.com</td>\n",
       "    </tr>\n",
       "  </tbody>\n",
       "</table>\n",
       "</div>"
      ],
      "text/plain": [
       "                   name                       email\n",
       "1922  Ms Marianne Ennis  marianne.ennis@example.com"
      ]
     },
     "execution_count": 108,
     "metadata": {},
     "output_type": "execute_result"
    }
   ],
   "source": [
    "# 17.- Mostrar en pantalla el nombre y correo electrónico del usuario más viejo en Canada.\n",
    "users_file[users_file.country == 'Canada'].sort_values('age').tail(1)[['name', 'email']]"
   ]
  },
  {
   "cell_type": "code",
   "execution_count": 109,
   "metadata": {},
   "outputs": [
    {
     "data": {
      "text/plain": [
       "country\n",
       "Iran      70\n",
       "Mexico    83\n",
       "Serbia    86\n",
       "Name: country, dtype: int64"
      ]
     },
     "execution_count": 109,
     "metadata": {},
     "output_type": "execute_result"
    }
   ],
   "source": [
    "# 18.- Listar en consola los 3 países con menor cantidad de usuarios\n",
    "users_file.groupby('country')['country'].count().sort_values().head(3)"
   ]
  },
  {
   "cell_type": "code",
   "execution_count": 110,
   "metadata": {},
   "outputs": [
    {
     "data": {
      "text/plain": [
       "country\n",
       "India    54\n",
       "Name: country, dtype: int64"
      ]
     },
     "execution_count": 110,
     "metadata": {},
     "output_type": "execute_result"
    }
   ],
   "source": [
    "# 19.- Obtener el país con mayor cantidad de usuarios cuya edad sea mayor a 50.\n",
    "users_file[users_file.age > 50].groupby('country')['country'].count().sort_values(ascending=False).head(1)"
   ]
  },
  {
   "cell_type": "code",
   "execution_count": 111,
   "metadata": {},
   "outputs": [
    {
     "data": {
      "text/plain": [
       "country\n",
       "India    52.540816\n",
       "Name: age, dtype: float64"
      ]
     },
     "execution_count": 111,
     "metadata": {},
     "output_type": "execute_result"
    }
   ],
   "source": [
    "# 20.- Obtener el país con mayor promedio de edad.\n",
    "users_file.groupby('country')['age'].mean().sort_values(ascending=False).head(1)"
   ]
  },
  {
   "cell_type": "code",
   "execution_count": 112,
   "metadata": {},
   "outputs": [
    {
     "data": {
      "text/plain": [
       "country\n",
       "Australia    60\n",
       "Name: country, dtype: int64"
      ]
     },
     "execution_count": 112,
     "metadata": {},
     "output_type": "execute_result"
    }
   ],
   "source": [
    "# 21.- Mostrar en consola el país con más hombres.\n",
    "users_file[users_file.gender == 'male'].groupby('country')['country'].count().sort_values(ascending=False).head(1)"
   ]
  },
  {
   "cell_type": "code",
   "execution_count": 113,
   "metadata": {},
   "outputs": [
    {
     "data": {
      "text/html": [
       "<div>\n",
       "<style scoped>\n",
       "    .dataframe tbody tr th:only-of-type {\n",
       "        vertical-align: middle;\n",
       "    }\n",
       "\n",
       "    .dataframe tbody tr th {\n",
       "        vertical-align: top;\n",
       "    }\n",
       "\n",
       "    .dataframe thead th {\n",
       "        text-align: right;\n",
       "    }\n",
       "</style>\n",
       "<table border=\"1\" class=\"dataframe\">\n",
       "  <thead>\n",
       "    <tr style=\"text-align: right;\">\n",
       "      <th></th>\n",
       "      <th>name</th>\n",
       "      <th>username</th>\n",
       "      <th>age</th>\n",
       "    </tr>\n",
       "  </thead>\n",
       "  <tbody>\n",
       "    <tr>\n",
       "      <th>0</th>\n",
       "      <td>Ms Fátima Martin</td>\n",
       "      <td>goldenmouse797</td>\n",
       "      <td>42</td>\n",
       "    </tr>\n",
       "    <tr>\n",
       "      <th>1</th>\n",
       "      <td>Mrs Molly Garrett</td>\n",
       "      <td>smallpanda982</td>\n",
       "      <td>30</td>\n",
       "    </tr>\n",
       "    <tr>\n",
       "      <th>2</th>\n",
       "      <td>Ms Veena Kulkarni</td>\n",
       "      <td>smalltiger174</td>\n",
       "      <td>53</td>\n",
       "    </tr>\n",
       "    <tr>\n",
       "      <th>3</th>\n",
       "      <td>Miss Sheryl Cole</td>\n",
       "      <td>beautifulcat191</td>\n",
       "      <td>74</td>\n",
       "    </tr>\n",
       "    <tr>\n",
       "      <th>4</th>\n",
       "      <td>Ms Nataša Subašić</td>\n",
       "      <td>bigbird256</td>\n",
       "      <td>55</td>\n",
       "    </tr>\n",
       "    <tr>\n",
       "      <th>...</th>\n",
       "      <td>...</td>\n",
       "      <td>...</td>\n",
       "      <td>...</td>\n",
       "    </tr>\n",
       "    <tr>\n",
       "      <th>1995</th>\n",
       "      <td>Ms Viktoria Lauritsen</td>\n",
       "      <td>heavyzebra441</td>\n",
       "      <td>38</td>\n",
       "    </tr>\n",
       "    <tr>\n",
       "      <th>1996</th>\n",
       "      <td>Mr Christian Sørhaug</td>\n",
       "      <td>goldensnake897</td>\n",
       "      <td>28</td>\n",
       "    </tr>\n",
       "    <tr>\n",
       "      <th>1997</th>\n",
       "      <td>Ms Maria Peković</td>\n",
       "      <td>redzebra951</td>\n",
       "      <td>45</td>\n",
       "    </tr>\n",
       "    <tr>\n",
       "      <th>1998</th>\n",
       "      <td>Mrs Nicole Jensen</td>\n",
       "      <td>beautifuldog292</td>\n",
       "      <td>78</td>\n",
       "    </tr>\n",
       "    <tr>\n",
       "      <th>1999</th>\n",
       "      <td>Mr Percy Blankenstein</td>\n",
       "      <td>ticklishostrich632</td>\n",
       "      <td>36</td>\n",
       "    </tr>\n",
       "  </tbody>\n",
       "</table>\n",
       "<p>1719 rows × 3 columns</p>\n",
       "</div>"
      ],
      "text/plain": [
       "                       name            username  age\n",
       "0          Ms Fátima Martin      goldenmouse797   42\n",
       "1         Mrs Molly Garrett       smallpanda982   30\n",
       "2         Ms Veena Kulkarni       smalltiger174   53\n",
       "3          Miss Sheryl Cole     beautifulcat191   74\n",
       "4         Ms Nataša Subašić          bigbird256   55\n",
       "...                     ...                 ...  ...\n",
       "1995  Ms Viktoria Lauritsen       heavyzebra441   38\n",
       "1996   Mr Christian Sørhaug      goldensnake897   28\n",
       "1997       Ms Maria Peković         redzebra951   45\n",
       "1998      Mrs Nicole Jensen     beautifuldog292   78\n",
       "1999  Mr Percy Blankenstein  ticklishostrich632   36\n",
       "\n",
       "[1719 rows x 3 columns]"
      ]
     },
     "execution_count": 113,
     "metadata": {},
     "output_type": "execute_result"
    }
   ],
   "source": [
    "# 22.- Mostrar en consola el nombre, username y edad de todos los usuarios cuya edad \n",
    "# es mayor a 10 y no sean del país México, Brasil y Canadá.\n",
    "users_file[(users_file.age > 10) & (~users_file.country.isin(['Mexico', 'Brazil', 'Canada']))][['name', 'username', 'age']]"
   ]
  },
  {
   "cell_type": "code",
   "execution_count": 114,
   "metadata": {},
   "outputs": [
    {
     "data": {
      "text/plain": [
       "9       43691\n",
       "49      16073\n",
       "52      52761\n",
       "90      16543\n",
       "91      78696\n",
       "        ...  \n",
       "1813    96954\n",
       "1822    61953\n",
       "1836    35219\n",
       "1912    56421\n",
       "1964    58319\n",
       "Name: postcode, Length: 83, dtype: object"
      ]
     },
     "execution_count": 114,
     "metadata": {},
     "output_type": "execute_result"
    }
   ],
   "source": [
    "# 23.- Mostrar en consola el código postal de todos los usuarios de México.\n",
    "users_file[users_file.country == 'Mexico'].postcode"
   ]
  },
  {
   "cell_type": "code",
   "execution_count": 115,
   "metadata": {},
   "outputs": [
    {
     "data": {
      "text/plain": [
       "0    44\n",
       "Name: age, dtype: int64"
      ]
     },
     "execution_count": 115,
     "metadata": {},
     "output_type": "execute_result"
    }
   ],
   "source": [
    "# 24.- Obtener la edad que más se repite en el DataFrame.\n",
    "users_file.age.mode()"
   ]
  },
  {
   "cell_type": "code",
   "execution_count": 116,
   "metadata": {},
   "outputs": [
    {
     "data": {
      "text/plain": [
       "78    14\n",
       "Name: age, dtype: int64"
      ]
     },
     "execution_count": 116,
     "metadata": {},
     "output_type": "execute_result"
    }
   ],
   "source": [
    "# 25.- Obtener la edad que menos se repite en el DataFrame.\n",
    "users_file.age.value_counts().sort_values().head(1)"
   ]
  }
 ],
 "metadata": {
  "kernelspec": {
   "display_name": "Python 3.10.6 ('ejercicios_numpy_pandas')",
   "language": "python",
   "name": "python3"
  },
  "language_info": {
   "codemirror_mode": {
    "name": "ipython",
    "version": 3
   },
   "file_extension": ".py",
   "mimetype": "text/x-python",
   "name": "python",
   "nbconvert_exporter": "python",
   "pygments_lexer": "ipython3",
   "version": "3.10.6"
  },
  "orig_nbformat": 4,
  "vscode": {
   "interpreter": {
    "hash": "78c11569c25e8e9ad0b01bc79668e5190d621cb3b50ecad0f095cbcaaaaacb6d"
   }
  }
 },
 "nbformat": 4,
 "nbformat_minor": 2
}
